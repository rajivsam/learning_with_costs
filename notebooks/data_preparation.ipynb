{
 "cells": [
  {
   "cell_type": "markdown",
   "id": "20072e69-b760-4761-84ba-d05d1a79a199",
   "metadata": {},
   "source": [
    "## Data preparation\n",
    "This notebook is a sequel to the preliminary data exploration notebook. This notebook will develop a key derived feature (borrower zip) and then break up the dataset into training and test datasets. Note that the feature developed is based on the observations in the _training dataset_. Outlier analysis is not done. There are some big loans, these could be removed from the data set. A standard practice is to fence the target values from the median at a distance of 1.5 times the inter quartile range. THis will be done subsequently. Elkan's paper develops a theory for the proportion by which the majority class should be reduced to create a balanced dataset on the basis of the false positve and the false negative costs. In this work, Hart's condensed nearest neighbor method was used to resample the dataset. The cost ratio is calculated for illustrative purposes. As will be seen, the threshold $p^*$ from this calculation is pretty close to $0.5$.  "
   ]
  },
  {
   "cell_type": "markdown",
   "id": "903241c6-0488-433f-8f79-c7450c88b2fb",
   "metadata": {},
   "source": [
    "### Elkans Undersampling Theory calculation\n",
    "The reduction in majority class based on cost basis is shown, but not used in this work"
   ]
  },
  {
   "cell_type": "code",
   "execution_count": 1,
   "id": "9ab21697-2326-4bf4-9726-4bf265dc88f4",
   "metadata": {},
   "outputs": [],
   "source": [
    "# neg (good_creditor) = 0, positive (bad_creditor) = 1\n",
    "c_10 = 169040.98 # false_positive_cost \n",
    "c_01 = 199617.34 # false_negative_ cost\n",
    "cost_ratio = c_01/c_10"
   ]
  },
  {
   "cell_type": "code",
   "execution_count": 2,
   "id": "5f4251b5-da46-4365-96d7-651d0c96f15d",
   "metadata": {},
   "outputs": [],
   "source": [
    "negative_undersampling = c_10/c_01"
   ]
  },
  {
   "cell_type": "code",
   "execution_count": 3,
   "id": "45dfd76b-8975-46ee-a779-ac751f303fbc",
   "metadata": {},
   "outputs": [
    {
     "data": {
      "text/plain": [
       "0.8468251305222283"
      ]
     },
     "execution_count": 3,
     "metadata": {},
     "output_type": "execute_result"
    }
   ],
   "source": [
    "# under sample the negative (majority class) by 84%\n",
    "negative_undersampling"
   ]
  },
  {
   "cell_type": "code",
   "execution_count": 4,
   "id": "4bcd5bbf-0626-438f-9deb-dd8a9cc55898",
   "metadata": {},
   "outputs": [],
   "source": [
    "import pandas as pd\n",
    "fp = \"../data/sba_real_estate.csv\"\n",
    "df = pd.read_csv(fp)"
   ]
  },
  {
   "cell_type": "code",
   "execution_count": 5,
   "id": "264190bd-f62c-41c0-8f6b-63757113aabe",
   "metadata": {},
   "outputs": [
    {
     "data": {
      "text/plain": [
       "LoanStatus\n",
       "PIF       4543\n",
       "CANCLD    1444\n",
       "CHGOFF     264\n",
       "Name: count, dtype: int64"
      ]
     },
     "execution_count": 5,
     "metadata": {},
     "output_type": "execute_result"
    }
   ],
   "source": [
    "df[\"LoanStatus\"].value_counts()"
   ]
  },
  {
   "cell_type": "code",
   "execution_count": 6,
   "id": "e0f1e14e-911b-4bd3-9e74-07f34daec48b",
   "metadata": {},
   "outputs": [
    {
     "data": {
      "text/plain": [
       "Index(['BorrName', 'BorrZip', 'BankName', 'BankZip', 'GrossApproval',\n",
       "       'SBAGuaranteedApproval', 'InitialInterestRate', 'TermInMonths',\n",
       "       'ProjectState', 'SBADistrictOffice', 'CongressionalDistrict',\n",
       "       'BusinessType', 'RevolverStatus', 'JobsSupported', 'LoanStatus'],\n",
       "      dtype='object')"
      ]
     },
     "execution_count": 6,
     "metadata": {},
     "output_type": "execute_result"
    }
   ],
   "source": [
    "df.columns"
   ]
  },
  {
   "cell_type": "code",
   "execution_count": 7,
   "id": "2ba7f85a-8cf4-4a8b-80f0-dc6cd83fa97a",
   "metadata": {},
   "outputs": [],
   "source": [
    "cols = df.columns.tolist()\n",
    "num_cols = [\"JobsSupported\", \"InitialInterestRate\", \"TermInMonths\", \"GrossApproval\", \"SBAGuaranteedApproval\"]\n",
    "target_cols = [\"LoanStatus\"]\n",
    "cat_cols = [ c for c in cols if c not in(target_cols + num_cols)]"
   ]
  },
  {
   "cell_type": "markdown",
   "id": "c74ce3ca-2027-4975-941f-fbe4825c7cef",
   "metadata": {},
   "source": [
    "## Estimate the cardinality of the categorical columns"
   ]
  },
  {
   "cell_type": "code",
   "execution_count": 8,
   "id": "d983ce7c-af22-43f4-97ce-335dd30ab891",
   "metadata": {},
   "outputs": [],
   "source": [
    "df_cat = df[cat_cols]\n",
    "df_cat = df_cat.astype(str)"
   ]
  },
  {
   "cell_type": "code",
   "execution_count": 9,
   "id": "cb458276-6821-43de-af81-11212d57c565",
   "metadata": {},
   "outputs": [],
   "source": [
    "cardinality = {}\n",
    "for c in cat_cols:\n",
    "    num_vals = len(df[c].unique())\n",
    "    cardinality[c] = num_vals\n",
    "    "
   ]
  },
  {
   "cell_type": "code",
   "execution_count": 10,
   "id": "aae771a7-9eb7-4d3f-a60a-c169b60b8335",
   "metadata": {},
   "outputs": [
    {
     "data": {
      "text/plain": [
       "{'BorrName': 5409,\n",
       " 'BorrZip': 3837,\n",
       " 'BankName': 895,\n",
       " 'BankZip': 841,\n",
       " 'ProjectState': 55,\n",
       " 'SBADistrictOffice': 74,\n",
       " 'CongressionalDistrict': 54,\n",
       " 'BusinessType': 3,\n",
       " 'RevolverStatus': 2}"
      ]
     },
     "execution_count": 10,
     "metadata": {},
     "output_type": "execute_result"
    }
   ],
   "source": [
    "cardinality"
   ]
  },
  {
   "cell_type": "code",
   "execution_count": 11,
   "id": "047ef2ef-e62b-4f87-8e93-cab968e70d1b",
   "metadata": {},
   "outputs": [],
   "source": [
    "df_nf = df[num_cols]\n",
    "df_nf = df_nf.astype(float)"
   ]
  },
  {
   "cell_type": "markdown",
   "id": "363ae78a-41ac-4ad8-a3a5-4c800e8544b4",
   "metadata": {},
   "source": [
    "## Use masking to split dataset into train and test"
   ]
  },
  {
   "cell_type": "code",
   "execution_count": 12,
   "id": "673f40cb-12ab-4667-948a-6052282a65a8",
   "metadata": {},
   "outputs": [],
   "source": [
    "import numpy as np\n",
    "msk = np.random.rand(len(df)) < 0.8\n",
    "df_train = df[msk]\n",
    "df_test = df[~msk]"
   ]
  },
  {
   "cell_type": "markdown",
   "id": "51853466-4678-4bb7-9a37-48fb09682508",
   "metadata": {},
   "source": [
    "## Develop a feature for bad borrower zip code membership"
   ]
  },
  {
   "cell_type": "code",
   "execution_count": 13,
   "id": "cf3e520d-40ba-41eb-b6d2-ba734928cff5",
   "metadata": {},
   "outputs": [
    {
     "name": "stderr",
     "output_type": "stream",
     "text": [
      "/var/folders/fb/t_m5qpcj6qq85rvkh73vbxh40000gn/T/ipykernel_9688/3281216051.py:13: SettingWithCopyWarning: \n",
      "A value is trying to be set on a copy of a slice from a DataFrame.\n",
      "Try using .loc[row_indexer,col_indexer] = value instead\n",
      "\n",
      "See the caveats in the documentation: https://pandas.pydata.org/pandas-docs/stable/user_guide/indexing.html#returning-a-view-versus-a-copy\n",
      "  df_train[\"D_BorrZip\"] = df_train[\"BorrZip\"].apply(bad_borr_zip)\n",
      "/var/folders/fb/t_m5qpcj6qq85rvkh73vbxh40000gn/T/ipykernel_9688/3281216051.py:14: SettingWithCopyWarning: \n",
      "A value is trying to be set on a copy of a slice from a DataFrame.\n",
      "Try using .loc[row_indexer,col_indexer] = value instead\n",
      "\n",
      "See the caveats in the documentation: https://pandas.pydata.org/pandas-docs/stable/user_guide/indexing.html#returning-a-view-versus-a-copy\n",
      "  df_test[\"D_BorrZip\"] = df_test[\"BorrZip\"].apply(bad_borr_zip)\n"
     ]
    }
   ],
   "source": [
    "bz = df_train[df_train[\"LoanStatus\"].isin([\"CANCLD\", \"CHGOFF\"])][\"BorrZip\"]\n",
    "gz = df_train[df_train[\"LoanStatus\"].isin([\"PIF\"])][\"BorrZip\"]\n",
    "bzs = set(bz.values)\n",
    "gzs = set(gz.values)\n",
    "xg = gzs - bzs\n",
    "xb = bzs - gzs\n",
    "\n",
    "def bad_borr_zip(zip):\n",
    "    if zip in xg:\n",
    "        return \"D\"\n",
    "    else:\n",
    "        return \"ND\"\n",
    "df_train[\"D_BorrZip\"] = df_train[\"BorrZip\"].apply(bad_borr_zip)\n",
    "df_test[\"D_BorrZip\"] = df_test[\"BorrZip\"].apply(bad_borr_zip)"
   ]
  },
  {
   "cell_type": "markdown",
   "id": "b18ccd12-de18-4258-a11e-cddb36bf3204",
   "metadata": {},
   "source": [
    "## Develop a feature for bad bank zip membership"
   ]
  },
  {
   "cell_type": "code",
   "execution_count": 14,
   "id": "f94deaa3-51ea-42d6-a7b2-d040138cfc44",
   "metadata": {},
   "outputs": [
    {
     "name": "stderr",
     "output_type": "stream",
     "text": [
      "/var/folders/fb/t_m5qpcj6qq85rvkh73vbxh40000gn/T/ipykernel_9688/3228291768.py:13: SettingWithCopyWarning: \n",
      "A value is trying to be set on a copy of a slice from a DataFrame.\n",
      "Try using .loc[row_indexer,col_indexer] = value instead\n",
      "\n",
      "See the caveats in the documentation: https://pandas.pydata.org/pandas-docs/stable/user_guide/indexing.html#returning-a-view-versus-a-copy\n",
      "  df_train[\"D_BankZip\"] = df_train[\"BankZip\"].apply(bad_bank_zip)\n",
      "/var/folders/fb/t_m5qpcj6qq85rvkh73vbxh40000gn/T/ipykernel_9688/3228291768.py:14: SettingWithCopyWarning: \n",
      "A value is trying to be set on a copy of a slice from a DataFrame.\n",
      "Try using .loc[row_indexer,col_indexer] = value instead\n",
      "\n",
      "See the caveats in the documentation: https://pandas.pydata.org/pandas-docs/stable/user_guide/indexing.html#returning-a-view-versus-a-copy\n",
      "  df_test[\"D_BankZip\"] = df_test[\"BankZip\"].apply(bad_bank_zip)\n"
     ]
    }
   ],
   "source": [
    "bz = df_train[df_train[\"LoanStatus\"].isin([\"CANCLD\", \"CHGOFF\"])][\"BankZip\"]\n",
    "gz = df_train[df_train[\"LoanStatus\"].isin([\"PIF\"])][\"BankZip\"]\n",
    "bzs = set(bz.values)\n",
    "gzs = set(gz.values)\n",
    "xg = gzs - bzs\n",
    "xb = bzs - gzs\n",
    "\n",
    "def bad_bank_zip(zip):\n",
    "    if zip in xg:\n",
    "        return \"D\"\n",
    "    else:\n",
    "        return \"ND\"\n",
    "df_train[\"D_BankZip\"] = df_train[\"BankZip\"].apply(bad_bank_zip)\n",
    "df_test[\"D_BankZip\"] = df_test[\"BankZip\"].apply(bad_bank_zip)"
   ]
  },
  {
   "cell_type": "markdown",
   "id": "a2e0917b-ad2c-412c-9631-3e112145e338",
   "metadata": {},
   "source": [
    "## Write test and train datasets to disk"
   ]
  },
  {
   "cell_type": "code",
   "execution_count": 15,
   "id": "5b065e82-c1d4-4295-bdcd-5fb08c4ceddc",
   "metadata": {},
   "outputs": [],
   "source": [
    "pred_cols = num_cols + [\"D_BankZip\", \"D_BorrZip\"]\n",
    "keep_cols = pred_cols + [\"LoanStatus\"]\n",
    "df_train = df_train[keep_cols]\n",
    "df_test = df_test[keep_cols]"
   ]
  },
  {
   "cell_type": "code",
   "execution_count": 16,
   "id": "d70b5827-720c-4fe4-8251-c61378f53957",
   "metadata": {},
   "outputs": [],
   "source": [
    "df_train = pd.concat([pd.get_dummies(df_train[pred_cols], drop_first=True, dtype=float),\n",
    "           df_train[\"LoanStatus\"]], axis=1)\n",
    "df_train[\"LoanStatus\"] = df_train[\"LoanStatus\"].replace({\"PIF\": 0, \"CANCLD\":1, \"CHGOFF\": 1})"
   ]
  },
  {
   "cell_type": "code",
   "execution_count": 17,
   "id": "6c32af30-f858-4622-889a-58293129cedb",
   "metadata": {},
   "outputs": [],
   "source": [
    "df_test = pd.concat([pd.get_dummies(df_test[pred_cols], drop_first=True, dtype=float),\n",
    "           df_test[\"LoanStatus\"]], axis=1)\n",
    "df_test[\"LoanStatus\"] = df_test[\"LoanStatus\"].replace({\"PIF\": 0, \"CANCLD\":1, \"CHGOFF\": 1})"
   ]
  },
  {
   "cell_type": "code",
   "execution_count": 18,
   "id": "12b4b449-3a1f-4cb2-bb13-be0e0834d671",
   "metadata": {},
   "outputs": [
    {
     "data": {
      "text/html": [
       "<div>\n",
       "<style scoped>\n",
       "    .dataframe tbody tr th:only-of-type {\n",
       "        vertical-align: middle;\n",
       "    }\n",
       "\n",
       "    .dataframe tbody tr th {\n",
       "        vertical-align: top;\n",
       "    }\n",
       "\n",
       "    .dataframe thead th {\n",
       "        text-align: right;\n",
       "    }\n",
       "</style>\n",
       "<table border=\"1\" class=\"dataframe\">\n",
       "  <thead>\n",
       "    <tr style=\"text-align: right;\">\n",
       "      <th></th>\n",
       "      <th>JobsSupported</th>\n",
       "      <th>InitialInterestRate</th>\n",
       "      <th>TermInMonths</th>\n",
       "      <th>GrossApproval</th>\n",
       "      <th>SBAGuaranteedApproval</th>\n",
       "      <th>D_BankZip_ND</th>\n",
       "      <th>D_BorrZip_ND</th>\n",
       "      <th>LoanStatus</th>\n",
       "    </tr>\n",
       "  </thead>\n",
       "  <tbody>\n",
       "    <tr>\n",
       "      <th>0</th>\n",
       "      <td>35</td>\n",
       "      <td>5.26</td>\n",
       "      <td>84</td>\n",
       "      <td>250000.0</td>\n",
       "      <td>125000.0</td>\n",
       "      <td>1.0</td>\n",
       "      <td>0.0</td>\n",
       "      <td>0</td>\n",
       "    </tr>\n",
       "    <tr>\n",
       "      <th>1</th>\n",
       "      <td>1</td>\n",
       "      <td>6.00</td>\n",
       "      <td>240</td>\n",
       "      <td>150000.0</td>\n",
       "      <td>135000.0</td>\n",
       "      <td>0.0</td>\n",
       "      <td>0.0</td>\n",
       "      <td>0</td>\n",
       "    </tr>\n",
       "    <tr>\n",
       "      <th>2</th>\n",
       "      <td>0</td>\n",
       "      <td>6.00</td>\n",
       "      <td>309</td>\n",
       "      <td>1350000.0</td>\n",
       "      <td>1215000.0</td>\n",
       "      <td>1.0</td>\n",
       "      <td>1.0</td>\n",
       "      <td>1</td>\n",
       "    </tr>\n",
       "    <tr>\n",
       "      <th>3</th>\n",
       "      <td>4</td>\n",
       "      <td>6.00</td>\n",
       "      <td>300</td>\n",
       "      <td>900000.0</td>\n",
       "      <td>810000.0</td>\n",
       "      <td>1.0</td>\n",
       "      <td>1.0</td>\n",
       "      <td>0</td>\n",
       "    </tr>\n",
       "    <tr>\n",
       "      <th>4</th>\n",
       "      <td>4</td>\n",
       "      <td>6.00</td>\n",
       "      <td>120</td>\n",
       "      <td>504000.0</td>\n",
       "      <td>453600.0</td>\n",
       "      <td>0.0</td>\n",
       "      <td>0.0</td>\n",
       "      <td>0</td>\n",
       "    </tr>\n",
       "    <tr>\n",
       "      <th>...</th>\n",
       "      <td>...</td>\n",
       "      <td>...</td>\n",
       "      <td>...</td>\n",
       "      <td>...</td>\n",
       "      <td>...</td>\n",
       "      <td>...</td>\n",
       "      <td>...</td>\n",
       "      <td>...</td>\n",
       "    </tr>\n",
       "    <tr>\n",
       "      <th>6244</th>\n",
       "      <td>9</td>\n",
       "      <td>5.90</td>\n",
       "      <td>120</td>\n",
       "      <td>382700.0</td>\n",
       "      <td>287025.0</td>\n",
       "      <td>1.0</td>\n",
       "      <td>1.0</td>\n",
       "      <td>1</td>\n",
       "    </tr>\n",
       "    <tr>\n",
       "      <th>6245</th>\n",
       "      <td>21</td>\n",
       "      <td>6.00</td>\n",
       "      <td>120</td>\n",
       "      <td>1050000.0</td>\n",
       "      <td>787500.0</td>\n",
       "      <td>1.0</td>\n",
       "      <td>1.0</td>\n",
       "      <td>1</td>\n",
       "    </tr>\n",
       "    <tr>\n",
       "      <th>6246</th>\n",
       "      <td>25</td>\n",
       "      <td>3.50</td>\n",
       "      <td>120</td>\n",
       "      <td>1000000.0</td>\n",
       "      <td>750000.0</td>\n",
       "      <td>1.0</td>\n",
       "      <td>1.0</td>\n",
       "      <td>1</td>\n",
       "    </tr>\n",
       "    <tr>\n",
       "      <th>6247</th>\n",
       "      <td>7</td>\n",
       "      <td>6.00</td>\n",
       "      <td>120</td>\n",
       "      <td>200000.0</td>\n",
       "      <td>150000.0</td>\n",
       "      <td>1.0</td>\n",
       "      <td>1.0</td>\n",
       "      <td>1</td>\n",
       "    </tr>\n",
       "    <tr>\n",
       "      <th>6249</th>\n",
       "      <td>25</td>\n",
       "      <td>4.50</td>\n",
       "      <td>300</td>\n",
       "      <td>1153000.0</td>\n",
       "      <td>864750.0</td>\n",
       "      <td>1.0</td>\n",
       "      <td>1.0</td>\n",
       "      <td>1</td>\n",
       "    </tr>\n",
       "  </tbody>\n",
       "</table>\n",
       "<p>4961 rows × 8 columns</p>\n",
       "</div>"
      ],
      "text/plain": [
       "      JobsSupported  InitialInterestRate  TermInMonths  GrossApproval  \\\n",
       "0                35                 5.26            84       250000.0   \n",
       "1                 1                 6.00           240       150000.0   \n",
       "2                 0                 6.00           309      1350000.0   \n",
       "3                 4                 6.00           300       900000.0   \n",
       "4                 4                 6.00           120       504000.0   \n",
       "...             ...                  ...           ...            ...   \n",
       "6244              9                 5.90           120       382700.0   \n",
       "6245             21                 6.00           120      1050000.0   \n",
       "6246             25                 3.50           120      1000000.0   \n",
       "6247              7                 6.00           120       200000.0   \n",
       "6249             25                 4.50           300      1153000.0   \n",
       "\n",
       "      SBAGuaranteedApproval  D_BankZip_ND  D_BorrZip_ND  LoanStatus  \n",
       "0                  125000.0           1.0           0.0           0  \n",
       "1                  135000.0           0.0           0.0           0  \n",
       "2                 1215000.0           1.0           1.0           1  \n",
       "3                  810000.0           1.0           1.0           0  \n",
       "4                  453600.0           0.0           0.0           0  \n",
       "...                     ...           ...           ...         ...  \n",
       "6244               287025.0           1.0           1.0           1  \n",
       "6245               787500.0           1.0           1.0           1  \n",
       "6246               750000.0           1.0           1.0           1  \n",
       "6247               150000.0           1.0           1.0           1  \n",
       "6249               864750.0           1.0           1.0           1  \n",
       "\n",
       "[4961 rows x 8 columns]"
      ]
     },
     "execution_count": 18,
     "metadata": {},
     "output_type": "execute_result"
    }
   ],
   "source": [
    "df_train"
   ]
  },
  {
   "cell_type": "code",
   "execution_count": 19,
   "id": "f30d43e3-069a-4bdd-839c-949a3938f614",
   "metadata": {},
   "outputs": [],
   "source": [
    "fp_train = \"../data/sba_training_dataset.csv\"\n",
    "df_train.to_csv(fp_train, index=False)\n",
    "fp_test = \"../data/sba_test_dataset.csv\"\n",
    "df_test.to_csv(fp_test, index=False)"
   ]
  },
  {
   "cell_type": "code",
   "execution_count": 20,
   "id": "26595d74-98d3-48c4-8a30-66578d3d16f8",
   "metadata": {},
   "outputs": [
    {
     "data": {
      "text/html": [
       "<div>\n",
       "<style scoped>\n",
       "    .dataframe tbody tr th:only-of-type {\n",
       "        vertical-align: middle;\n",
       "    }\n",
       "\n",
       "    .dataframe tbody tr th {\n",
       "        vertical-align: top;\n",
       "    }\n",
       "\n",
       "    .dataframe thead th {\n",
       "        text-align: right;\n",
       "    }\n",
       "</style>\n",
       "<table border=\"1\" class=\"dataframe\">\n",
       "  <thead>\n",
       "    <tr style=\"text-align: right;\">\n",
       "      <th></th>\n",
       "      <th>JobsSupported</th>\n",
       "      <th>InitialInterestRate</th>\n",
       "      <th>TermInMonths</th>\n",
       "      <th>GrossApproval</th>\n",
       "      <th>SBAGuaranteedApproval</th>\n",
       "      <th>D_BankZip_ND</th>\n",
       "      <th>D_BorrZip_ND</th>\n",
       "      <th>LoanStatus</th>\n",
       "    </tr>\n",
       "  </thead>\n",
       "  <tbody>\n",
       "    <tr>\n",
       "      <th>0</th>\n",
       "      <td>35</td>\n",
       "      <td>5.26</td>\n",
       "      <td>84</td>\n",
       "      <td>250000.0</td>\n",
       "      <td>125000.0</td>\n",
       "      <td>1.0</td>\n",
       "      <td>0.0</td>\n",
       "      <td>0</td>\n",
       "    </tr>\n",
       "    <tr>\n",
       "      <th>1</th>\n",
       "      <td>1</td>\n",
       "      <td>6.00</td>\n",
       "      <td>240</td>\n",
       "      <td>150000.0</td>\n",
       "      <td>135000.0</td>\n",
       "      <td>0.0</td>\n",
       "      <td>0.0</td>\n",
       "      <td>0</td>\n",
       "    </tr>\n",
       "    <tr>\n",
       "      <th>2</th>\n",
       "      <td>0</td>\n",
       "      <td>6.00</td>\n",
       "      <td>309</td>\n",
       "      <td>1350000.0</td>\n",
       "      <td>1215000.0</td>\n",
       "      <td>1.0</td>\n",
       "      <td>1.0</td>\n",
       "      <td>1</td>\n",
       "    </tr>\n",
       "    <tr>\n",
       "      <th>3</th>\n",
       "      <td>4</td>\n",
       "      <td>6.00</td>\n",
       "      <td>300</td>\n",
       "      <td>900000.0</td>\n",
       "      <td>810000.0</td>\n",
       "      <td>1.0</td>\n",
       "      <td>1.0</td>\n",
       "      <td>0</td>\n",
       "    </tr>\n",
       "    <tr>\n",
       "      <th>4</th>\n",
       "      <td>4</td>\n",
       "      <td>6.00</td>\n",
       "      <td>120</td>\n",
       "      <td>504000.0</td>\n",
       "      <td>453600.0</td>\n",
       "      <td>0.0</td>\n",
       "      <td>0.0</td>\n",
       "      <td>0</td>\n",
       "    </tr>\n",
       "    <tr>\n",
       "      <th>...</th>\n",
       "      <td>...</td>\n",
       "      <td>...</td>\n",
       "      <td>...</td>\n",
       "      <td>...</td>\n",
       "      <td>...</td>\n",
       "      <td>...</td>\n",
       "      <td>...</td>\n",
       "      <td>...</td>\n",
       "    </tr>\n",
       "    <tr>\n",
       "      <th>6244</th>\n",
       "      <td>9</td>\n",
       "      <td>5.90</td>\n",
       "      <td>120</td>\n",
       "      <td>382700.0</td>\n",
       "      <td>287025.0</td>\n",
       "      <td>1.0</td>\n",
       "      <td>1.0</td>\n",
       "      <td>1</td>\n",
       "    </tr>\n",
       "    <tr>\n",
       "      <th>6245</th>\n",
       "      <td>21</td>\n",
       "      <td>6.00</td>\n",
       "      <td>120</td>\n",
       "      <td>1050000.0</td>\n",
       "      <td>787500.0</td>\n",
       "      <td>1.0</td>\n",
       "      <td>1.0</td>\n",
       "      <td>1</td>\n",
       "    </tr>\n",
       "    <tr>\n",
       "      <th>6246</th>\n",
       "      <td>25</td>\n",
       "      <td>3.50</td>\n",
       "      <td>120</td>\n",
       "      <td>1000000.0</td>\n",
       "      <td>750000.0</td>\n",
       "      <td>1.0</td>\n",
       "      <td>1.0</td>\n",
       "      <td>1</td>\n",
       "    </tr>\n",
       "    <tr>\n",
       "      <th>6247</th>\n",
       "      <td>7</td>\n",
       "      <td>6.00</td>\n",
       "      <td>120</td>\n",
       "      <td>200000.0</td>\n",
       "      <td>150000.0</td>\n",
       "      <td>1.0</td>\n",
       "      <td>1.0</td>\n",
       "      <td>1</td>\n",
       "    </tr>\n",
       "    <tr>\n",
       "      <th>6249</th>\n",
       "      <td>25</td>\n",
       "      <td>4.50</td>\n",
       "      <td>300</td>\n",
       "      <td>1153000.0</td>\n",
       "      <td>864750.0</td>\n",
       "      <td>1.0</td>\n",
       "      <td>1.0</td>\n",
       "      <td>1</td>\n",
       "    </tr>\n",
       "  </tbody>\n",
       "</table>\n",
       "<p>4961 rows × 8 columns</p>\n",
       "</div>"
      ],
      "text/plain": [
       "      JobsSupported  InitialInterestRate  TermInMonths  GrossApproval  \\\n",
       "0                35                 5.26            84       250000.0   \n",
       "1                 1                 6.00           240       150000.0   \n",
       "2                 0                 6.00           309      1350000.0   \n",
       "3                 4                 6.00           300       900000.0   \n",
       "4                 4                 6.00           120       504000.0   \n",
       "...             ...                  ...           ...            ...   \n",
       "6244              9                 5.90           120       382700.0   \n",
       "6245             21                 6.00           120      1050000.0   \n",
       "6246             25                 3.50           120      1000000.0   \n",
       "6247              7                 6.00           120       200000.0   \n",
       "6249             25                 4.50           300      1153000.0   \n",
       "\n",
       "      SBAGuaranteedApproval  D_BankZip_ND  D_BorrZip_ND  LoanStatus  \n",
       "0                  125000.0           1.0           0.0           0  \n",
       "1                  135000.0           0.0           0.0           0  \n",
       "2                 1215000.0           1.0           1.0           1  \n",
       "3                  810000.0           1.0           1.0           0  \n",
       "4                  453600.0           0.0           0.0           0  \n",
       "...                     ...           ...           ...         ...  \n",
       "6244               287025.0           1.0           1.0           1  \n",
       "6245               787500.0           1.0           1.0           1  \n",
       "6246               750000.0           1.0           1.0           1  \n",
       "6247               150000.0           1.0           1.0           1  \n",
       "6249               864750.0           1.0           1.0           1  \n",
       "\n",
       "[4961 rows x 8 columns]"
      ]
     },
     "execution_count": 20,
     "metadata": {},
     "output_type": "execute_result"
    }
   ],
   "source": [
    "df_train"
   ]
  },
  {
   "cell_type": "code",
   "execution_count": 21,
   "id": "5d9899bf-bd9e-4b3f-bba5-47f02e2469bd",
   "metadata": {},
   "outputs": [
    {
     "data": {
      "text/plain": [
       "LoanStatus\n",
       "0    3623\n",
       "1    1338\n",
       "Name: count, dtype: int64"
      ]
     },
     "execution_count": 21,
     "metadata": {},
     "output_type": "execute_result"
    }
   ],
   "source": [
    "df_train[\"LoanStatus\"].value_counts()"
   ]
  },
  {
   "cell_type": "code",
   "execution_count": 22,
   "id": "0bbfa8c7-1d6a-48b3-bc68-0c263ed0027e",
   "metadata": {},
   "outputs": [
    {
     "data": {
      "text/plain": [
       "LoanStatus\n",
       "0    920\n",
       "1    370\n",
       "Name: count, dtype: int64"
      ]
     },
     "execution_count": 22,
     "metadata": {},
     "output_type": "execute_result"
    }
   ],
   "source": [
    "df_test[\"LoanStatus\"].value_counts()"
   ]
  },
  {
   "cell_type": "code",
   "execution_count": null,
   "id": "579f9154-de4b-463b-9b33-9c3e09c4247c",
   "metadata": {},
   "outputs": [],
   "source": []
  }
 ],
 "metadata": {
  "kernelspec": {
   "display_name": "Python 3 (ipykernel)",
   "language": "python",
   "name": "python3"
  },
  "language_info": {
   "codemirror_mode": {
    "name": "ipython",
    "version": 3
   },
   "file_extension": ".py",
   "mimetype": "text/x-python",
   "name": "python",
   "nbconvert_exporter": "python",
   "pygments_lexer": "ipython3",
   "version": "3.10.13"
  }
 },
 "nbformat": 4,
 "nbformat_minor": 5
}
