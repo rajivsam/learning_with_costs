{
 "cells": [
  {
   "cell_type": "code",
   "execution_count": 1,
   "id": "1fd3b9c5-a653-4730-a442-e7610fb3402b",
   "metadata": {},
   "outputs": [],
   "source": [
    "import pandas as pd\n",
    "fp = \"../data/sba_training_resampled.csv\"\n",
    "df = pd.read_csv(fp)"
   ]
  },
  {
   "cell_type": "code",
   "execution_count": 2,
   "id": "ebb2db1c-6eb9-413d-bc63-9827ee756103",
   "metadata": {},
   "outputs": [],
   "source": [
    "preds = df.columns.tolist()\n",
    "preds.remove(\"LoanStatus\")"
   ]
  },
  {
   "cell_type": "code",
   "execution_count": 3,
   "id": "daac634c-414c-465a-b846-4ae806f672c4",
   "metadata": {},
   "outputs": [],
   "source": [
    "X = df[preds]\n",
    "y = df[\"LoanStatus\"]"
   ]
  },
  {
   "cell_type": "code",
   "execution_count": 4,
   "id": "8ccad911-fdaa-4bee-ae69-1f2109f4ddd3",
   "metadata": {},
   "outputs": [
    {
     "data": {
      "text/plain": [
       "{'criterion': 'gini', 'max_depth': 3}"
      ]
     },
     "execution_count": 4,
     "metadata": {},
     "output_type": "execute_result"
    }
   ],
   "source": [
    "import numpy as np\n",
    "from sklearn.tree import DecisionTreeClassifier\n",
    "from sklearn.model_selection import GridSearchCV\n",
    "param_grid = { 'criterion':['gini','entropy'],'max_depth': np.arange(3, 15)}\n",
    "    # decision tree model\n",
    "dtree_model=DecisionTreeClassifier()\n",
    "    #use gridsearch to test all values\n",
    "dtree_gscv = GridSearchCV(dtree_model, param_grid, cv=5)\n",
    "    #fit model to data\n",
    "dtree_gscv.fit(X, y)\n",
    "dtree_gscv.best_params_"
   ]
  },
  {
   "cell_type": "code",
   "execution_count": 5,
   "id": "66aa4256-e8af-4241-aa38-0eb790987d20",
   "metadata": {},
   "outputs": [
    {
     "data": {
      "text/plain": [
       "0.8898113207547169"
      ]
     },
     "execution_count": 5,
     "metadata": {},
     "output_type": "execute_result"
    }
   ],
   "source": [
    "dtree_gscv.best_score_"
   ]
  },
  {
   "cell_type": "code",
   "execution_count": 6,
   "id": "d60cbe0b-051a-4cec-a0ee-cde9bd9cf67f",
   "metadata": {},
   "outputs": [],
   "source": [
    "model = dtree_gscv.best_estimator_"
   ]
  },
  {
   "cell_type": "code",
   "execution_count": 7,
   "id": "773ce516-a77d-4021-a2a5-961f420e4037",
   "metadata": {},
   "outputs": [],
   "source": [
    "fp_test = \"../data/sba_test_dataset.csv\"\n",
    "df_test = pd.read_csv(fp)\n",
    "Xt = df_test[preds]\n",
    "yt = df_test[\"LoanStatus\"]"
   ]
  },
  {
   "cell_type": "code",
   "execution_count": 8,
   "id": "4082aca8-632f-4e87-bdb9-72c7eed284a7",
   "metadata": {},
   "outputs": [],
   "source": [
    "yp = model.predict(Xt)"
   ]
  },
  {
   "cell_type": "code",
   "execution_count": 9,
   "id": "8186f790-fd4a-4a8c-b9a0-0f6d088cacd3",
   "metadata": {},
   "outputs": [
    {
     "data": {
      "text/plain": [
       "0.8887195121951219"
      ]
     },
     "execution_count": 9,
     "metadata": {},
     "output_type": "execute_result"
    }
   ],
   "source": [
    "from sklearn.metrics import balanced_accuracy_score\n",
    "balanced_accuracy_score(yt, yp)"
   ]
  },
  {
   "cell_type": "code",
   "execution_count": 10,
   "id": "70c00864-4859-47c5-ae70-9cb3e83d6e53",
   "metadata": {},
   "outputs": [
    {
     "name": "stdout",
     "output_type": "stream",
     "text": [
      "                   pre       rec       spe        f1       geo       iba       sup\n",
      "\n",
      "        0.0       1.00      0.78      1.00      0.87      0.88      0.76      1312\n",
      "        1.0       0.82      1.00      0.78      0.90      0.88      0.79      1338\n",
      "\n",
      "avg / total       0.91      0.89      0.89      0.89      0.88      0.78      2650\n",
      "\n"
     ]
    }
   ],
   "source": [
    "from imblearn.metrics import classification_report_imbalanced\n",
    "print(classification_report_imbalanced(yt, yp))"
   ]
  },
  {
   "cell_type": "code",
   "execution_count": 11,
   "id": "c06000c9-b42f-4107-a817-9c2360079a54",
   "metadata": {},
   "outputs": [
    {
     "name": "stdout",
     "output_type": "stream",
     "text": [
      "Threshold value of probability is : 0.54\n"
     ]
    }
   ],
   "source": [
    "c_10 = 169040.98 # false_positive_cost \n",
    "c_01 = 199617.34 # false_negative_ cost\n",
    "pstar = c_01/(c_10 + c_01)\n",
    "print('Threshold value of probability is : {:.{prec}f}'.format(pstar, prec=2))"
   ]
  },
  {
   "cell_type": "code",
   "execution_count": 12,
   "id": "e0a3ca9b-86be-45b6-9e9b-2c2d4726e024",
   "metadata": {},
   "outputs": [],
   "source": [
    "df_test[\"p_1\"] = model.predict_proba(Xt)[:,1]"
   ]
  },
  {
   "cell_type": "code",
   "execution_count": 13,
   "id": "f961a20a-91c3-4217-a7d4-74c90c86dd0b",
   "metadata": {},
   "outputs": [],
   "source": [
    "df_test[\"yp_opt\"] = df_test[\"p_1\"].apply(lambda x: 1 if x > pstar else 0)"
   ]
  },
  {
   "cell_type": "code",
   "execution_count": 14,
   "id": "a2661012-5583-46e2-81c3-d24f4487815a",
   "metadata": {},
   "outputs": [
    {
     "name": "stdout",
     "output_type": "stream",
     "text": [
      "                   pre       rec       spe        f1       geo       iba       sup\n",
      "\n",
      "        0.0       1.00      0.78      1.00      0.87      0.88      0.76      1312\n",
      "        1.0       0.82      1.00      0.78      0.90      0.88      0.79      1338\n",
      "\n",
      "avg / total       0.91      0.89      0.89      0.89      0.88      0.78      2650\n",
      "\n"
     ]
    }
   ],
   "source": [
    "print(classification_report_imbalanced(yt, df_test[\"yp_opt\"]))"
   ]
  },
  {
   "cell_type": "code",
   "execution_count": 15,
   "id": "33bfd360-f272-4a7d-8d9f-346d333d5e39",
   "metadata": {},
   "outputs": [
    {
     "name": "stdout",
     "output_type": "stream",
     "text": [
      "feat importance = [0.         0.         0.0082509  0.         0.         0.06322006\n",
      " 0.92852904]\n"
     ]
    }
   ],
   "source": [
    "feat_importance = model.tree_.compute_feature_importances(normalize=True)\n",
    "print(\"feat importance = \" + str(feat_importance))"
   ]
  },
  {
   "cell_type": "code",
   "execution_count": null,
   "id": "a4be41bb-c3e1-40f8-a447-ba382e81909b",
   "metadata": {},
   "outputs": [],
   "source": []
  },
  {
   "cell_type": "code",
   "execution_count": 16,
   "id": "c086483f-6ff4-4ac2-8f99-cd7f08d81b59",
   "metadata": {},
   "outputs": [
    {
     "data": {
      "text/plain": [
       "[('D_BorrZip_ND', 0.9285290389654883),\n",
       " ('D_BankZip_ND', 0.063220063094055),\n",
       " ('TermInMonths', 0.008250897940456716),\n",
       " ('JobsSupported', 0.0),\n",
       " ('InitialInterestRate', 0.0),\n",
       " ('GrossApproval', 0.0),\n",
       " ('SBAGuaranteedApproval', 0.0)]"
      ]
     },
     "execution_count": 16,
     "metadata": {},
     "output_type": "execute_result"
    }
   ],
   "source": [
    "[(preds[x], feat_importance[x]) for x in np.argsort(-feat_importance)]"
   ]
  },
  {
   "cell_type": "code",
   "execution_count": null,
   "id": "4bfed8cd-6d37-4220-bbed-b36b4f34bd3c",
   "metadata": {},
   "outputs": [],
   "source": []
  }
 ],
 "metadata": {
  "kernelspec": {
   "display_name": "Python 3 (ipykernel)",
   "language": "python",
   "name": "python3"
  },
  "language_info": {
   "codemirror_mode": {
    "name": "ipython",
    "version": 3
   },
   "file_extension": ".py",
   "mimetype": "text/x-python",
   "name": "python",
   "nbconvert_exporter": "python",
   "pygments_lexer": "ipython3",
   "version": "3.10.13"
  }
 },
 "nbformat": 4,
 "nbformat_minor": 5
}
