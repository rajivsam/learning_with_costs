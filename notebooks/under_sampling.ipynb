{
 "cells": [
  {
   "cell_type": "code",
   "execution_count": 1,
   "id": "37bfd105-96bc-462e-aee4-606ef2e80336",
   "metadata": {},
   "outputs": [],
   "source": [
    "import imblearn"
   ]
  },
  {
   "cell_type": "code",
   "execution_count": 2,
   "id": "21c57878-5be2-41ae-86d8-7b9c4278a7c0",
   "metadata": {},
   "outputs": [],
   "source": [
    "from collections import Counter  "
   ]
  },
  {
   "cell_type": "code",
   "execution_count": 3,
   "id": "a5b98883-6d31-43d9-9709-fd208b89a357",
   "metadata": {},
   "outputs": [],
   "source": [
    "from imblearn.under_sampling import CondensedNearestNeighbour "
   ]
  },
  {
   "cell_type": "code",
   "execution_count": 4,
   "id": "cc685d79-aa41-4c85-b8d8-aabfe5f1dc34",
   "metadata": {},
   "outputs": [],
   "source": [
    "import pandas as pd\n",
    "fp_train = \"../data/sba_training_dataset.csv\"\n",
    "df_train = pd.read_csv(fp_train)"
   ]
  },
  {
   "cell_type": "code",
   "execution_count": 5,
   "id": "add0578c-10ab-4150-91f2-9b062e352dc7",
   "metadata": {},
   "outputs": [
    {
     "data": {
      "text/plain": [
       "Index(['JobsSupported', 'InitialInterestRate', 'TermInMonths', 'GrossApproval',\n",
       "       'SBAGuaranteedApproval', 'D_BankZip_ND', 'D_BorrZip_ND', 'LoanStatus'],\n",
       "      dtype='object')"
      ]
     },
     "execution_count": 5,
     "metadata": {},
     "output_type": "execute_result"
    }
   ],
   "source": [
    "df_train.columns"
   ]
  },
  {
   "cell_type": "code",
   "execution_count": 6,
   "id": "a61a6ee0-36be-4293-80f1-524343fa02f2",
   "metadata": {},
   "outputs": [],
   "source": [
    "preds = df_train.columns.tolist()\n",
    "preds.remove(\"LoanStatus\")"
   ]
  },
  {
   "cell_type": "code",
   "execution_count": 7,
   "id": "928f07ef-42e8-4fbc-9c0b-c5e4756eaa4c",
   "metadata": {},
   "outputs": [],
   "source": [
    "cnn = CondensedNearestNeighbour(random_state=42)"
   ]
  },
  {
   "cell_type": "code",
   "execution_count": 8,
   "id": "a4dc68ba-ce0a-422e-871a-4315d6c633dd",
   "metadata": {},
   "outputs": [],
   "source": [
    "X_res, y_res = cnn.fit_resample(df_train[preds], df_train[\"LoanStatus\"])"
   ]
  },
  {
   "cell_type": "code",
   "execution_count": 9,
   "id": "6bf9f8af-4a2e-49d4-ad63-491e57492ed0",
   "metadata": {},
   "outputs": [
    {
     "name": "stdout",
     "output_type": "stream",
     "text": [
      "Resampled dataset shape Counter({1: 1338, 0: 1312})\n"
     ]
    }
   ],
   "source": [
    "print('Resampled dataset shape %s' % Counter(y_res))"
   ]
  },
  {
   "cell_type": "code",
   "execution_count": 10,
   "id": "2aa3fb5b-bdaa-489b-8d79-31754e483e74",
   "metadata": {},
   "outputs": [],
   "source": [
    "import numpy as np\n",
    "fp_train_resampled = \"../data/sba_training_resampled.csv\"\n",
    "df_resamp = pd.DataFrame(np.hstack((X_res, y_res.values.reshape(y_res.shape[0],1))))\n",
    "df_resamp.columns = df_train.columns.tolist()\n",
    "df_resamp.to_csv(fp_train_resampled, index=False)"
   ]
  },
  {
   "cell_type": "code",
   "execution_count": null,
   "id": "77a4e9b2-7e04-4846-a4d2-213fada96799",
   "metadata": {},
   "outputs": [],
   "source": []
  }
 ],
 "metadata": {
  "kernelspec": {
   "display_name": "Python 3 (ipykernel)",
   "language": "python",
   "name": "python3"
  },
  "language_info": {
   "codemirror_mode": {
    "name": "ipython",
    "version": 3
   },
   "file_extension": ".py",
   "mimetype": "text/x-python",
   "name": "python",
   "nbconvert_exporter": "python",
   "pygments_lexer": "ipython3",
   "version": "3.10.13"
  }
 },
 "nbformat": 4,
 "nbformat_minor": 5
}
